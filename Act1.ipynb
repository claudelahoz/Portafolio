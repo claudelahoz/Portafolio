{
 "cells": [
  {
   "cell_type": "code",
   "execution_count": 2,
   "metadata": {},
   "outputs": [],
   "source": [
    "import pandas as pd"
   ]
  },
  {
   "cell_type": "code",
   "execution_count": 3,
   "metadata": {},
   "outputs": [],
   "source": [
    "df1 = pd.DataFrame([\n",
    "    [1, 144.5, 5.9, 33, 'M'],\n",
    "    [2, 167.2, 5.4, 45, 'M'],\n",
    "    [3, 124.1, 5.2, 23, 'F'],\n",
    "    [4, 144.5, 5.9, 33, 'M'],\n",
    "    [5, 133.2, 5.7, 54, 'F'],\n",
    "    [3, 124.1, 5.2, 23, 'F'],\n",
    "    [5, 129.2, 5.3, 42, 'M']\n",
    "], columns=['id', 'weight', 'height', 'age', 'gender'])\n",
    "\n",
    "df1.to_csv('dataframe1.csv', index=False, sep =\"|\")"
   ]
  },
  {
   "cell_type": "code",
   "execution_count": 4,
   "metadata": {},
   "outputs": [],
   "source": [
    "df2 = pd.DataFrame([\n",
    "    [1, 143.5, 5.3, 28],\n",
    "    [2, 154.2, 5.5, 45],\n",
    "    [3, 342.3, 5.1, 99],\n",
    "    [4, 144.5, 5.5, 33],\n",
    "    [5, 133.2, 5.4, 54],\n",
    "    [6, 124.1, 5.1, 21],\n",
    "    [7, 129.2, 5.3, 42]\n",
    "], columns=['id', 'weight', 'height', 'age'])\n",
    "\n",
    "df2.to_csv('dataframe2.csv', index=False, sep =\"|\")"
   ]
  },
  {
   "cell_type": "code",
   "execution_count": 5,
   "metadata": {},
   "outputs": [],
   "source": [
    "df3 = pd.DataFrame([\n",
    "    [1, 143.5, 5.6, 28, 'M', 100000],\n",
    "    [2, 167.2, 5.4, 45, 'M', None],\n",
    "    [3, None, 5.2, None, None, None],\n",
    "    [4, 144.5, 5.9, 33, 'M', None],\n",
    "    [5, 133.2, 5.7, 54, 'F', None],\n",
    "    [6, 124.1, 5.2, None, 'F', None],\n",
    "    [7, 129.2, 5.3, 42, 'M', 70000]\n",
    "], columns=['id', 'weight', 'height', 'age', 'gender', 'income'])\n",
    "\n",
    "df3.to_csv('dataframe3.csv', index=False, sep =\"|\")"
   ]
  },
  {
   "cell_type": "markdown",
   "metadata": {},
   "source": [
    "Estructura general:\n",
    "\n",
    "Todos los conjuntos tienen una columna 'id' como identificador.\n",
    "Todos incluyen datos básicos como peso (peso) y altura (altura).\n",
    "La edad está presente en todos los conjuntos.\n",
    "\n",
    "\n",
    "Diferencias en las columnas:\n",
    "\n",
    "El primer y tercer conjunto incluyen una columna 'género', mientras que el segundo no.\n",
    "Solo el tercer conjunto tiene una columna 'ingresos'.\n",
    "\n",
    "\n",
    "Tamaño de los conjuntos:\n",
    "\n",
    "El primer conjunto tiene 7 filas, pero solo 5 ids únicos (los ids 3 y 5 se repiten).\n",
    "El segundo conjunto tiene 7 filas con identificadores únicos del 1 al 7.\n",
    "El tercer conjunto también tiene 7 filas con identificadores únicos del 1 al 7.\n",
    "\n",
    "\n",
    "Valores atípicos y especiales:\n",
    "\n",
    "En el segundo conjunto, hay un valor de peso muy alto (342.3) para el id 3, que podría ser un error o un caso muy particular.\n",
    "El tercer conjunto contiene valores nulos (None) en varias celdas, lo que no se ve en los otros dos conjuntos.\n",
    "\n",
    "\n",
    "Rangos de datos:\n",
    "\n",
    "Los pesos varían considerablemente, desde alrededor de 124 hasta 167 en la mayoría de los casos, con la excepción mencionada en el segundo conjunto.\n",
    "Las alturas están todas en un rango similar, alrededor de 5.1 a 5.9.\n",
    "Las edades varían desde los 20 hasta los 50, con la excepción de un valor de 99 en el segundo conjunto.\n",
    "\n",
    "\n",
    "Datos de ingresos:\n",
    "\n",
    "Solo presentes en el tercer conjunto.\n",
    "Muchos valores son nulos (Ninguno).\n",
    "Los valores no nulos son 100000 y 70000, sugiriendo que podrían ser ingresos anuales.\n",
    "\n",
    "\n",
    "Consistencia de datos:\n",
    "\n",
    "Hay algunas inconsistencias entre los conjuntos. Por ejemplo, el id 1 tiene diferentes pesos y alturas en cada conjunto.\n",
    "\n",
    "\n",
    "Formato de datos:\n",
    "\n",
    "El género se representa con 'M' y 'F' en los conjuntos que lo incluyen.\n",
    "Los valores numéricos parecen ser de tipo float para peso y altura, e entero para edad e ingresos.\n",
    "\n",
    "\n",
    "Particularidades del tercer conjunto:\n",
    "\n",
    "Es el más complejo, con más columnas y la presencia de valores nulos.\n",
    "Tiene una fila (id 3) con múltiples valores nulos, lo que podría representar datos incompletos o un registro parcial.\n",
    "\n",
    "\n",
    "Estas observaciones sugieren que los tres conjuntos de datos podrían representar diferentes versiones o etapas de recolección de datos sobre un grupo de individuos, con variaciones en la información disponible y la precisión de los datos entre los conjuntos."
   ]
  }
 ],
 "metadata": {
  "kernelspec": {
   "display_name": "Python 3",
   "language": "python",
   "name": "python3"
  },
  "language_info": {
   "codemirror_mode": {
    "name": "ipython",
    "version": 3
   },
   "file_extension": ".py",
   "mimetype": "text/x-python",
   "name": "python",
   "nbconvert_exporter": "python",
   "pygments_lexer": "ipython3",
   "version": "3.11.5"
  }
 },
 "nbformat": 4,
 "nbformat_minor": 2
}
