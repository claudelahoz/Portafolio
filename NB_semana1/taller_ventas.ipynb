{
 "cells": [
  {
   "cell_type": "code",
   "execution_count": 2,
   "metadata": {},
   "outputs": [],
   "source": [
    "# Import de librerias de \n",
    "import pandas as pd"
   ]
  },
  {
   "cell_type": "code",
   "execution_count": 24,
   "metadata": {},
   "outputs": [],
   "source": [
    "# Cargar dataframe de ventas\n",
    "path = \"C:/Users/delahozce/OneDrive - GLOBAL HITSS/Documentos/Proyectos/Codes/git_portafolio/Portafolio/data/example_ventas.xlsx\"\n",
    "df_ventas = pd.read_excel(path )"
   ]
  },
  {
   "cell_type": "code",
   "execution_count": 25,
   "metadata": {},
   "outputs": [
    {
     "name": "stdout",
     "output_type": "stream",
     "text": [
      "Ejerccio 1: Mostrar las primeras filas\n"
     ]
    },
    {
     "data": {
      "text/html": [
       "<div>\n",
       "<style scoped>\n",
       "    .dataframe tbody tr th:only-of-type {\n",
       "        vertical-align: middle;\n",
       "    }\n",
       "\n",
       "    .dataframe tbody tr th {\n",
       "        vertical-align: top;\n",
       "    }\n",
       "\n",
       "    .dataframe thead th {\n",
       "        text-align: right;\n",
       "    }\n",
       "</style>\n",
       "<table border=\"1\" class=\"dataframe\">\n",
       "  <thead>\n",
       "    <tr style=\"text-align: right;\">\n",
       "      <th></th>\n",
       "      <th>Fecha</th>\n",
       "      <th>Region</th>\n",
       "      <th>Producto</th>\n",
       "      <th>Vendedor</th>\n",
       "      <th>Ventas</th>\n",
       "    </tr>\n",
       "  </thead>\n",
       "  <tbody>\n",
       "    <tr>\n",
       "      <th>0</th>\n",
       "      <td>2024-01-31</td>\n",
       "      <td>Central</td>\n",
       "      <td>Accesorios</td>\n",
       "      <td>David</td>\n",
       "      <td>8287</td>\n",
       "    </tr>\n",
       "    <tr>\n",
       "      <th>1</th>\n",
       "      <td>2024-02-01</td>\n",
       "      <td>Central</td>\n",
       "      <td>Accesorios</td>\n",
       "      <td>Karen</td>\n",
       "      <td>6909</td>\n",
       "    </tr>\n",
       "    <tr>\n",
       "      <th>2</th>\n",
       "      <td>2024-02-02</td>\n",
       "      <td>Central</td>\n",
       "      <td>Dispositivos</td>\n",
       "      <td>David</td>\n",
       "      <td>11420</td>\n",
       "    </tr>\n",
       "    <tr>\n",
       "      <th>3</th>\n",
       "      <td>2024-02-03</td>\n",
       "      <td>Central</td>\n",
       "      <td>Dispositivos</td>\n",
       "      <td>Karen</td>\n",
       "      <td>12948</td>\n",
       "    </tr>\n",
       "    <tr>\n",
       "      <th>4</th>\n",
       "      <td>2024-02-04</td>\n",
       "      <td>Central</td>\n",
       "      <td>Sistemas</td>\n",
       "      <td>David</td>\n",
       "      <td>20098</td>\n",
       "    </tr>\n",
       "  </tbody>\n",
       "</table>\n",
       "</div>"
      ],
      "text/plain": [
       "       Fecha   Region      Producto Vendedor  Ventas\n",
       "0 2024-01-31  Central    Accesorios    David    8287\n",
       "1 2024-02-01  Central    Accesorios    Karen    6909\n",
       "2 2024-02-02  Central  Dispositivos    David   11420\n",
       "3 2024-02-03  Central  Dispositivos    Karen   12948\n",
       "4 2024-02-04  Central      Sistemas    David   20098"
      ]
     },
     "execution_count": 25,
     "metadata": {},
     "output_type": "execute_result"
    }
   ],
   "source": [
    "# Ejerccio 1: Mostrar las primeras filas\n",
    "print(f\"Ejerccio 1: Mostrar las primeras filas\" )\n",
    "df_ventas.head(5)"
   ]
  },
  {
   "cell_type": "code",
   "execution_count": 32,
   "metadata": {},
   "outputs": [
    {
     "name": "stdout",
     "output_type": "stream",
     "text": [
      "Ejerccio 2: Calcular el total de ventas por región\n",
      "Ventas por región: \n",
      " Region\n",
      "Central    90295\n",
      "Este       63555\n",
      "Oeste      85683\n",
      "Name: Ventas, dtype: int64\n",
      "Total Ventas: \n",
      "         Fecha   Region      Producto Vendedor  Ventas\n",
      "0  2024-01-31  Central    Accesorios    David    8287\n",
      "1  2024-02-01  Central    Accesorios    Karen    6909\n",
      "2  2024-02-02  Central  Dispositivos    David   11420\n",
      "3  2024-02-03  Central  Dispositivos    Karen   12948\n",
      "4  2024-02-04  Central      Sistemas    David   20098\n",
      "5  2024-02-05  Central      Sistemas    Karen   30633\n",
      "6  2024-02-06     Este    Accesorios      Ana    9323\n",
      "7  2024-02-07     Este    Accesorios    Lucas    7667\n",
      "8  2024-02-08     Este  Dispositivos      Ana   10348\n",
      "9  2024-02-09     Este  Dispositivos    Lucas    9312\n",
      "10 2024-02-10     Este      Sistemas      Ana   13531\n",
      "11 2024-02-11     Este      Sistemas    Lucas   13374\n",
      "12 2024-02-12    Oeste    Accesorios    Kevin    4744\n",
      "13 2024-02-13    Oeste    Accesorios     Sara    5442\n",
      "14 2024-02-14    Oeste  Dispositivos    Kevin   10711\n",
      "15 2024-02-15    Oeste  Dispositivos     Sara    8780\n",
      "16 2024-02-16    Oeste      Sistemas    Kevin   32855\n",
      "17 2024-02-17    Oeste      Sistemas     Sara   23151\n"
     ]
    }
   ],
   "source": [
    "# Ejerccio 2: Calcular el total de ventas por región\n",
    "print(f\"Ejerccio 2: Calcular el total de ventas por región\" )\n",
    "ventas_por_region = df_ventas.groupby(\"Region\")[\"Ventas\"].sum()\n",
    "print(f\"Ventas por región: \\n\",ventas_por_region)\n",
    "print(f\"Total Ventas: \\n\", df_ventas)"
   ]
  },
  {
   "cell_type": "code",
   "execution_count": 33,
   "metadata": {},
   "outputs": [
    {
     "name": "stdout",
     "output_type": "stream",
     "text": [
      "Ejercicio 3 Filtrar el Dataframe para mostrar solo las ventas realizadas por David\n",
      "Ventas de David: \n",
      "        Fecha   Region      Producto Vendedor  Ventas\n",
      "0 2024-01-31  Central    Accesorios    David    8287\n",
      "2 2024-02-02  Central  Dispositivos    David   11420\n",
      "4 2024-02-04  Central      Sistemas    David   20098\n"
     ]
    }
   ],
   "source": [
    "# Ejercicio 3 Filtrar el Dataframe para mostrar solo las ventas realizadas por David\n",
    "print(\"Ejercicio 3 Filtrar el Dataframe para mostrar solo las ventas realizadas por David\")\n",
    "ventas_david = df_ventas[df_ventas[\"Vendedor\"]==\"David\"]\n",
    "print(f\"Ventas de David: \\n\",ventas_david)"
   ]
  },
  {
   "cell_type": "code",
   "execution_count": 34,
   "metadata": {},
   "outputs": [
    {
     "name": "stdout",
     "output_type": "stream",
     "text": [
      "Promedio ventas por region: \n",
      " Region\n",
      "Central    15049.166667\n",
      "Este       10592.500000\n",
      "Oeste      14280.500000\n",
      "Name: Ventas, dtype: float64\n"
     ]
    }
   ],
   "source": [
    "# Ejercicio 4: Calcular el promedio de ventas por región\n",
    "ventas_por_producto = df_ventas.groupby(\"Region\")[\"Ventas\"].mean()\n",
    "print(f\"Promedio ventas por region: \\n\",ventas_por_producto)"
   ]
  },
  {
   "cell_type": "code",
   "execution_count": 36,
   "metadata": {},
   "outputs": [
    {
     "name": "stdout",
     "output_type": "stream",
     "text": [
      "Promedio ventas por region: \n",
      " Region\n",
      "Central    15049.17\n",
      "Este       10592.50\n",
      "Oeste      14280.50\n",
      "Name: Ventas, dtype: float64\n"
     ]
    }
   ],
   "source": [
    "# Ejercicio 5: Calcular el promedio de ventas por región con dos decimales\n",
    "ventas_por_producto = df_ventas.groupby(\"Region\")[\"Ventas\"].mean().round(2)\n",
    "print(f\"Promedio ventas por region: \\n\",ventas_por_producto)"
   ]
  },
  {
   "cell_type": "code",
   "execution_count": 35,
   "metadata": {},
   "outputs": [
    {
     "name": "stdout",
     "output_type": "stream",
     "text": [
      "Ejercicio 5: Ordenar el Dataframe por ventas en orden descendentes\n",
      "Datafrem ordenado descendiente por ventas: \n",
      "         Fecha   Region      Producto Vendedor  Ventas\n",
      "16 2024-02-16    Oeste      Sistemas    Kevin   32855\n",
      "5  2024-02-05  Central      Sistemas    Karen   30633\n",
      "17 2024-02-17    Oeste      Sistemas     Sara   23151\n",
      "4  2024-02-04  Central      Sistemas    David   20098\n",
      "10 2024-02-10     Este      Sistemas      Ana   13531\n",
      "11 2024-02-11     Este      Sistemas    Lucas   13374\n",
      "3  2024-02-03  Central  Dispositivos    Karen   12948\n",
      "2  2024-02-02  Central  Dispositivos    David   11420\n",
      "14 2024-02-14    Oeste  Dispositivos    Kevin   10711\n",
      "8  2024-02-08     Este  Dispositivos      Ana   10348\n",
      "6  2024-02-06     Este    Accesorios      Ana    9323\n",
      "9  2024-02-09     Este  Dispositivos    Lucas    9312\n",
      "15 2024-02-15    Oeste  Dispositivos     Sara    8780\n",
      "0  2024-01-31  Central    Accesorios    David    8287\n",
      "7  2024-02-07     Este    Accesorios    Lucas    7667\n",
      "1  2024-02-01  Central    Accesorios    Karen    6909\n",
      "13 2024-02-13    Oeste    Accesorios     Sara    5442\n",
      "12 2024-02-12    Oeste    Accesorios    Kevin    4744\n"
     ]
    }
   ],
   "source": [
    "# Ejercicio 6: Ordenar el Dataframe por ventas en orden descendentes\n",
    "print(\"Ejercicio 5: Ordenar el Dataframe por ventas en orden descendentes\")\n",
    "ventas_ordenado = df_ventas.sort_values(by=\"Ventas\",ascending=False)\n",
    "print(f\"Datafrem ordenado descendiente por ventas: \\n\",ventas_ordenado)"
   ]
  },
  {
   "cell_type": "code",
   "execution_count": 37,
   "metadata": {},
   "outputs": [
    {
     "name": "stdout",
     "output_type": "stream",
     "text": [
      "Ejercicio 7: Filtrar las filas con ventas mayores a 10000 y ordenar de mayor a menor\n",
      "Ventas mayores a 10000 ascendentes: \n",
      "         Fecha   Region      Producto Vendedor  Ventas\n",
      "8  2024-02-08     Este  Dispositivos      Ana   10348\n",
      "14 2024-02-14    Oeste  Dispositivos    Kevin   10711\n",
      "2  2024-02-02  Central  Dispositivos    David   11420\n",
      "3  2024-02-03  Central  Dispositivos    Karen   12948\n",
      "11 2024-02-11     Este      Sistemas    Lucas   13374\n",
      "10 2024-02-10     Este      Sistemas      Ana   13531\n",
      "4  2024-02-04  Central      Sistemas    David   20098\n",
      "17 2024-02-17    Oeste      Sistemas     Sara   23151\n",
      "5  2024-02-05  Central      Sistemas    Karen   30633\n",
      "16 2024-02-16    Oeste      Sistemas    Kevin   32855\n"
     ]
    }
   ],
   "source": [
    "# Ejercicio 7: Filtrar las filas con ventas mayores a 10000 y ordenar de mayor a menor\n",
    "print(\"Ejercicio 7: Filtrar las filas con ventas mayores a 10000 y ordenar de mayor a menor\")\n",
    "df_filtrado = df_ventas[df_ventas[\"Ventas\"]>10000].sort_values(by=\"Ventas\", ascending=True)\n",
    "print(f\"Ventas mayores a 10000 ascendentes: \\n\", df_filtrado)"
   ]
  },
  {
   "cell_type": "code",
   "execution_count": 38,
   "metadata": {},
   "outputs": [
    {
     "name": "stdout",
     "output_type": "stream",
     "text": [
      "Ejercicio 8: Eliminar la columna Vendedor\n",
      "Dataframe sin la columnas vendedor: \n",
      "         Fecha   Region      Producto  Ventas\n",
      "0  2024-01-31  Central    Accesorios    8287\n",
      "1  2024-02-01  Central    Accesorios    6909\n",
      "2  2024-02-02  Central  Dispositivos   11420\n",
      "3  2024-02-03  Central  Dispositivos   12948\n",
      "4  2024-02-04  Central      Sistemas   20098\n",
      "5  2024-02-05  Central      Sistemas   30633\n",
      "6  2024-02-06     Este    Accesorios    9323\n",
      "7  2024-02-07     Este    Accesorios    7667\n",
      "8  2024-02-08     Este  Dispositivos   10348\n",
      "9  2024-02-09     Este  Dispositivos    9312\n",
      "10 2024-02-10     Este      Sistemas   13531\n",
      "11 2024-02-11     Este      Sistemas   13374\n",
      "12 2024-02-12    Oeste    Accesorios    4744\n",
      "13 2024-02-13    Oeste    Accesorios    5442\n",
      "14 2024-02-14    Oeste  Dispositivos   10711\n",
      "15 2024-02-15    Oeste  Dispositivos    8780\n",
      "16 2024-02-16    Oeste      Sistemas   32855\n",
      "17 2024-02-17    Oeste      Sistemas   23151\n"
     ]
    }
   ],
   "source": [
    "# Ejercicio 8: Eliminar la columna \"Vendedor\"\n",
    "print(\"Ejercicio 8: Eliminar la columna Vendedor\")\n",
    "df_sin_vendedor = df_ventas.drop(columns=[\"Vendedor\"])\n",
    "print(f\"Dataframe sin la columnas vendedor: \\n\", df_sin_vendedor)"
   ]
  },
  {
   "cell_type": "markdown",
   "metadata": {},
   "source": [
    "### Mis preguntas planteadas"
   ]
  },
  {
   "cell_type": "code",
   "execution_count": 45,
   "metadata": {},
   "outputs": [
    {
     "name": "stdout",
     "output_type": "stream",
     "text": [
      "\n",
      "Pregunta 9: Vendedor con mejor desempeño:\n",
      "Vendedor\n",
      "Karen    50490\n",
      "Name: Ventas, dtype: int64\n"
     ]
    }
   ],
   "source": [
    "# Pregunta 9: ¿Quién es el vendedor con mejor desempeño?\n",
    "ventas_por_vendedor = df_ventas.groupby('Vendedor')['Ventas'].sum().sort_values(ascending=False)\n",
    "print(\"\\nPregunta 9: Vendedor con mejor desempeño:\")\n",
    "print(ventas_por_vendedor.head(1))"
   ]
  },
  {
   "cell_type": "code",
   "execution_count": 47,
   "metadata": {},
   "outputs": [
    {
     "name": "stdout",
     "output_type": "stream",
     "text": [
      "\n",
      "Pregunta 10: Producto más vendido:\n",
      "Producto\n",
      "Sistemas    133642\n",
      "Name: Ventas, dtype: int64\n"
     ]
    }
   ],
   "source": [
    "# Pregunta 10: ¿Cuál es el producto más vendido?\n",
    "ventas_por_producto = df_ventas.groupby('Producto')['Ventas'].sum().sort_values(ascending=False)\n",
    "print(\"\\nPregunta 10: Producto más vendido:\")\n",
    "print(ventas_por_producto.head(1))\n"
   ]
  },
  {
   "cell_type": "code",
   "execution_count": 49,
   "metadata": {},
   "outputs": [
    {
     "name": "stdout",
     "output_type": "stream",
     "text": [
      "\n",
      "Pregunta 11: Promedio más alto de venta por transacción por vendedor:\n",
      "Vendedor\n",
      "Karen    16830.000000\n",
      "Kevin    16103.333333\n",
      "David    13268.333333\n",
      "Sara     12457.666667\n",
      "Ana      11067.333333\n",
      "Lucas    10117.666667\n",
      "Name: Ventas, dtype: float64\n"
     ]
    }
   ],
   "source": [
    "# Pregunta 11: ¿Quién tiene el promedio más alto de venta por transacción?\n",
    "promedio_venta_vendedor = df_ventas.groupby('Vendedor')['Ventas'].mean().sort_values(ascending=False)\n",
    "print(\"\\nPregunta 11: Promedio más alto de venta por transacción por vendedor:\")\n",
    "print(promedio_venta_vendedor)"
   ]
  },
  {
   "cell_type": "code",
   "execution_count": 51,
   "metadata": {},
   "outputs": [
    {
     "name": "stdout",
     "output_type": "stream",
     "text": [
      "\n",
      "Pregunta 12: Porcentaje de ventas por categoría de producto:\n",
      "Producto\n",
      "Sistemas        55.792730\n",
      "Dispositivos    26.517849\n",
      "Accesorios      17.689421\n",
      "Name: Ventas, dtype: float64\n"
     ]
    }
   ],
   "source": [
    "# Pregunta 12: ¿Cuál es el porcentaje de ventas por categoría de producto?\n",
    "total_ventas = df_ventas['Ventas'].sum()\n",
    "porcentaje_ventas = (df_ventas.groupby('Producto')['Ventas'].sum() / total_ventas * 100).sort_values(ascending=False)\n",
    "print(\"\\nPregunta 12: Porcentaje de ventas por categoría de producto:\")\n",
    "print(porcentaje_ventas)"
   ]
  },
  {
   "cell_type": "markdown",
   "metadata": {},
   "source": [
    "1: ¿Cuáles son las ventas totales por región?\n",
    "2: ¿Quién es el vendedor con mejor desempeño?\n",
    "3: ¿Cuál es el producto más vendido?\n",
    "4: ¿Cuál es la tendencia de ventas diaria?\n",
    "5: ¿Cuál es el monto de venta promedio?\n",
    "6: ¿Cuál es la distribución de ventas por categoría de producto?\n",
    "7: ¿Quién tiene el promedio de venta por transacción más alto?\n",
    "8: ¿Cuál es el desempeño de ventas por día de la semana?\n",
    "9: ¿Cuál es el porcentaje de ventas por categoría de producto?\n",
    "10: ¿Cuáles son las ventas acumuladas a lo largo del tiempo?"
   ]
  }
 ],
 "metadata": {
  "kernelspec": {
   "display_name": "Python 3",
   "language": "python",
   "name": "python3"
  },
  "language_info": {
   "codemirror_mode": {
    "name": "ipython",
    "version": 3
   },
   "file_extension": ".py",
   "mimetype": "text/x-python",
   "name": "python",
   "nbconvert_exporter": "python",
   "pygments_lexer": "ipython3",
   "version": "3.11.5"
  }
 },
 "nbformat": 4,
 "nbformat_minor": 2
}
